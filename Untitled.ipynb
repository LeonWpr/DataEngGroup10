{
 "cells": [
  {
   "cell_type": "code",
   "execution_count": 25,
   "id": "59248d5f-8041-463c-9a7c-754095c3b5f0",
   "metadata": {},
   "outputs": [
    {
     "name": "stdout",
     "output_type": "stream",
     "text": [
      "Requirement already satisfied: nltk in /home/ubuntu/.local/lib/python3.8/site-packages (3.8.1)\n",
      "Requirement already satisfied: regex>=2021.8.3 in /home/ubuntu/.local/lib/python3.8/site-packages (from nltk) (2023.12.25)\n",
      "Requirement already satisfied: click in /usr/lib/python3/dist-packages (from nltk) (7.0)\n",
      "Requirement already satisfied: joblib in /home/ubuntu/.local/lib/python3.8/site-packages (from nltk) (1.3.2)\n",
      "Requirement already satisfied: tqdm in /home/ubuntu/.local/lib/python3.8/site-packages (from nltk) (4.66.2)\n"
     ]
    }
   ],
   "source": [
    "!pip install nltk\n",
    "import json\n",
    "import time\n",
    "\n",
    "from pyspark.sql import SparkSession\n",
    "from nltk.sentiment import SentimentIntensityAnalyzer\n"
   ]
  },
  {
   "cell_type": "code",
   "execution_count": 26,
   "id": "0244ef5d-0773-4764-b713-3474348e9e1a",
   "metadata": {},
   "outputs": [],
   "source": [
    "def preprocess(rdd):\n",
    "    rdd = rdd.map(lambda line: json.loads(line))\\\n",
    "             .map(lambda line: line['body']) \\\n",
    "             .map(lambda line: line.strip())\n",
    "    return rdd\n",
    "\n",
    "\n",
    "def classify_comments(rdd):\n",
    "    sia = SentimentIntensityAnalyzer()\n",
    "\n",
    "    def _classify(comment):\n",
    "        scores = sia.polarity_scores(comment)\n",
    "        compound = scores['compound']\n",
    "        if compound >= 0.05:\n",
    "            return 'positive'\n",
    "        elif compound <= -0.05:\n",
    "            return 'negative'\n",
    "        else:\n",
    "            return 'neutral'\n",
    "\n",
    "    m_rdd = rdd.map(lambda line: (line, _classify(line)))\n",
    "    return m_rdd\n",
    "\n",
    "\n",
    "def analyze_comments(rdd):\n",
    "    rdd = rdd.map(lambda pair: pair[1]) \\\n",
    "             .map(lambda k: (k, 1)) \\\n",
    "             .reduceByKey(lambda v1, v2: v1+v2)\\\n",
    "             .map(lambda kv: (kv[1], kv[0])) \\\n",
    "             .sortByKey(False)\\\n",
    "             .map(lambda vk: (vk[1], vk[0]))\n",
    "    return rdd\n",
    "\n",
    "\n",
    "def rdd_slice(rdd, start, end):\n",
    "    rdd = rdd.zipWithIndex()\\\n",
    "            .filter(lambda kv: kv[1] >= start and kv[1] <= end) \\\n",
    "            .map(lambda kv: kv[0])\n",
    "    return rdd     \n",
    "\n",
    "\n",
    "data_size = 1000000"
   ]
  },
  {
   "cell_type": "code",
   "execution_count": 27,
   "id": "0f76684d-bab8-402b-ad1d-6fb156ab911d",
   "metadata": {},
   "outputs": [
    {
     "name": "stderr",
     "output_type": "stream",
     "text": [
      "                                                                                \r"
     ]
    }
   ],
   "source": [
    "from pyspark.sql import SparkSession\n",
    "\n",
    "# spark = SparkSession.builder \\\n",
    "#     .appName(\"Million Song Analysis\") \\\n",
    "#     .getOrCreate()\n",
    "\n",
    "\n",
    "spark_session = SparkSession\\\n",
    "        .builder\\\n",
    "        .master(\"spark://192.168.2.174:7077\") \\\n",
    "        .appName(\"DF\")\\\n",
    "        .config(\"spark.dynamicAllocation.enabled\", True)\\\n",
    "        .config(\"spark.dynamicAllocation.shuffleTracking.enabled\",True)\\\n",
    "        .config(\"spark.shuffle.service.enabled\", False)\\\n",
    "        .config(\"spark.dynamicAllocation.executorIdleTimeout\",\"300s\")\\\n",
    "        .config(\"spark.executor.cores\",2)\\\n",
    "        .config(\"spark.driver.port\",9999)\\\n",
    "        .config(\"spark.blockManager.port\",10005)\\\n",
    "        .getOrCreate()\n",
    "\n",
    "#HDIHAIOHDAOUJHDAIOÖuh asdjkhflkjasdhfkjahsdfkjhaslkdf\n",
    "#SADASDASDSADASDASDASDQWEQWEQWEQWEQWEQWE\n",
    "\n",
    "spark_context = spark_session.sparkContext\n",
    "\n",
    "spark_context.setLogLevel(\"ERROR\")\n",
    "\n",
    "\n",
    "# Read JSON file from HDFS into Spark DataFrame\n",
    "json_file_path = \"hdfs://master:9000/path/in/hdfs/JsonFiles/corpus-webis-shortened_chunk1.json\"\n",
    "df = spark_session.read.option(\"multiline\",\"true\").json(json_file_path)\n"
   ]
  },
  {
   "cell_type": "code",
   "execution_count": 31,
   "id": "01250b4a-144d-42a9-a70b-3a9c37c1b971",
   "metadata": {},
   "outputs": [
    {
     "name": "stdout",
     "output_type": "stream",
     "text": [
      "+----------------+--------------------+--------------------+-----------+-------+--------------------+--------------------+------------+--------------------+-----------+-----+\n",
      "|          author|                body|             content|content_len|     id|      normalizedBody|           subreddit|subreddit_id|             summary|summary_len|title|\n",
      "+----------------+--------------------+--------------------+-----------+-------+--------------------+--------------------+------------+--------------------+-----------+-----+\n",
      "|raysofdarkmatter|I think it should...|I think it should...|        178|c69al3r|I think it should...|                math|    t5_2qh0n|Shifting seasonal...|          8| NULL|\n",
      "|    gadzookfilms|I love this idea ...|I love this idea ...|        126|c6asb7p|I love this idea ...|RedditFilmsProduc...|    t5_2v33h|How we make money...|          9| NULL|\n",
      "+----------------+--------------------+--------------------+-----------+-------+--------------------+--------------------+------------+--------------------+-----------+-----+\n",
      "only showing top 2 rows\n",
      "\n",
      "None\n"
     ]
    }
   ],
   "source": [
    "print(df.show(2))"
   ]
  },
  {
   "cell_type": "code",
   "execution_count": 24,
   "id": "3ff07dae-0331-4a1c-95f3-18db55bb7dd2",
   "metadata": {},
   "outputs": [
    {
     "name": "stderr",
     "output_type": "stream",
     "text": [
      "copyToLocal: `/home/group_10_project/TRAAAAW128F429D538.h5': No such file or directory: `file:///home/group_10_project/TRAAAAW128F429D538.h5'\n"
     ]
    },
    {
     "ename": "CalledProcessError",
     "evalue": "Command '['hdfs', 'dfs', '-copyToLocal', '/path/in/hdfs/MillionSongSubset/A/A/A/TRAAAAW128F429D538.h5', '/home/group_10_project/TRAAAAW128F429D538.h5']' returned non-zero exit status 1.",
     "output_type": "error",
     "traceback": [
      "\u001b[0;31m---------------------------------------------------------------------------\u001b[0m",
      "\u001b[0;31mCalledProcessError\u001b[0m                        Traceback (most recent call last)",
      "Cell \u001b[0;32mIn[24], line 13\u001b[0m\n\u001b[1;32m     10\u001b[0m local_file_path \u001b[38;5;241m=\u001b[39m \u001b[38;5;124m\"\u001b[39m\u001b[38;5;124m/home/group_10_project/TRAAAAW128F429D538.h5\u001b[39m\u001b[38;5;124m\"\u001b[39m\n\u001b[1;32m     12\u001b[0m \u001b[38;5;66;03m# Copy the file from HDFS to local\u001b[39;00m\n\u001b[0;32m---> 13\u001b[0m \u001b[43mcopy_from_hdfs\u001b[49m\u001b[43m(\u001b[49m\u001b[43mhdfs_file_path\u001b[49m\u001b[43m,\u001b[49m\u001b[43m \u001b[49m\u001b[43mlocal_file_path\u001b[49m\u001b[43m)\u001b[49m\n\u001b[1;32m     15\u001b[0m \u001b[38;5;66;03m# Now you can use hdf5_getters to open and read the local file\u001b[39;00m\n\u001b[1;32m     16\u001b[0m h5 \u001b[38;5;241m=\u001b[39m hdf5_getters\u001b[38;5;241m.\u001b[39mopen_h5_file_read(local_file_path)\n",
      "Cell \u001b[0;32mIn[24], line 6\u001b[0m, in \u001b[0;36mcopy_from_hdfs\u001b[0;34m(hdfs_path, local_path)\u001b[0m\n\u001b[1;32m      5\u001b[0m \u001b[38;5;28;01mdef\u001b[39;00m \u001b[38;5;21mcopy_from_hdfs\u001b[39m(hdfs_path, local_path):\n\u001b[0;32m----> 6\u001b[0m     \u001b[43msubprocess\u001b[49m\u001b[38;5;241;43m.\u001b[39;49m\u001b[43mrun\u001b[49m\u001b[43m(\u001b[49m\u001b[43m[\u001b[49m\u001b[38;5;124;43m\"\u001b[39;49m\u001b[38;5;124;43mhdfs\u001b[39;49m\u001b[38;5;124;43m\"\u001b[39;49m\u001b[43m,\u001b[49m\u001b[43m \u001b[49m\u001b[38;5;124;43m\"\u001b[39;49m\u001b[38;5;124;43mdfs\u001b[39;49m\u001b[38;5;124;43m\"\u001b[39;49m\u001b[43m,\u001b[49m\u001b[43m \u001b[49m\u001b[38;5;124;43m\"\u001b[39;49m\u001b[38;5;124;43m-copyToLocal\u001b[39;49m\u001b[38;5;124;43m\"\u001b[39;49m\u001b[43m,\u001b[49m\u001b[43m \u001b[49m\u001b[43mhdfs_path\u001b[49m\u001b[43m,\u001b[49m\u001b[43m \u001b[49m\u001b[43mlocal_path\u001b[49m\u001b[43m]\u001b[49m\u001b[43m,\u001b[49m\u001b[43m \u001b[49m\u001b[43mcheck\u001b[49m\u001b[38;5;241;43m=\u001b[39;49m\u001b[38;5;28;43;01mTrue\u001b[39;49;00m\u001b[43m)\u001b[49m\n",
      "File \u001b[0;32m/usr/lib/python3.8/subprocess.py:516\u001b[0m, in \u001b[0;36mrun\u001b[0;34m(input, capture_output, timeout, check, *popenargs, **kwargs)\u001b[0m\n\u001b[1;32m    514\u001b[0m     retcode \u001b[38;5;241m=\u001b[39m process\u001b[38;5;241m.\u001b[39mpoll()\n\u001b[1;32m    515\u001b[0m     \u001b[38;5;28;01mif\u001b[39;00m check \u001b[38;5;129;01mand\u001b[39;00m retcode:\n\u001b[0;32m--> 516\u001b[0m         \u001b[38;5;28;01mraise\u001b[39;00m CalledProcessError(retcode, process\u001b[38;5;241m.\u001b[39margs,\n\u001b[1;32m    517\u001b[0m                                  output\u001b[38;5;241m=\u001b[39mstdout, stderr\u001b[38;5;241m=\u001b[39mstderr)\n\u001b[1;32m    518\u001b[0m \u001b[38;5;28;01mreturn\u001b[39;00m CompletedProcess(process\u001b[38;5;241m.\u001b[39margs, retcode, stdout, stderr)\n",
      "\u001b[0;31mCalledProcessError\u001b[0m: Command '['hdfs', 'dfs', '-copyToLocal', '/path/in/hdfs/MillionSongSubset/A/A/A/TRAAAAW128F429D538.h5', '/home/group_10_project/TRAAAAW128F429D538.h5']' returned non-zero exit status 1."
     ]
    }
   ],
   "source": [
    "import subprocess\n",
    "import hdf5_getters\n",
    "\n",
    "# Function to copy file from HDFS to local\n",
    "def copy_from_hdfs(hdfs_path, local_path):\n",
    "    subprocess.run([\"hdfs\", \"dfs\", \"-copyToLocal\", hdfs_path, local_path], check=True)\n",
    "\n",
    "# Specify the HDFS path and a local path for the file\n",
    "hdfs_file_path = \"/path/in/hdfs/MillionSongSubset/A/A/A/TRAAAAW128F429D538.h5\"\n",
    "local_file_path = \"/home/group_10_project/TRAAAAW128F429D538.h5\"\n",
    "\n",
    "# Copy the file from HDFS to local\n",
    "copy_from_hdfs(hdfs_file_path, local_file_path)\n",
    "\n",
    "# Now you can use hdf5_getters to open and read the local file\n",
    "h5 = hdf5_getters.open_h5_file_read(local_file_path)\n",
    "duration = hdf5_getters.get_duration(h5)\n",
    "h5.close()\n",
    "\n",
    "# Continue with your processing...\n",
    "\n"
   ]
  },
  {
   "cell_type": "code",
   "execution_count": null,
   "id": "25e74afc-286e-4a57-9b08-10846a4722b5",
   "metadata": {},
   "outputs": [],
   "source": []
  },
  {
   "cell_type": "code",
   "execution_count": null,
   "id": "1617f3ed-80cc-45c5-9198-cee3c7f0b30a",
   "metadata": {},
   "outputs": [],
   "source": []
  }
 ],
 "metadata": {
  "kernelspec": {
   "display_name": "Python 3 (ipykernel)",
   "language": "python",
   "name": "python3"
  },
  "language_info": {
   "codemirror_mode": {
    "name": "ipython",
    "version": 3
   },
   "file_extension": ".py",
   "mimetype": "text/x-python",
   "name": "python",
   "nbconvert_exporter": "python",
   "pygments_lexer": "ipython3",
   "version": "3.8.10"
  }
 },
 "nbformat": 4,
 "nbformat_minor": 5
}
